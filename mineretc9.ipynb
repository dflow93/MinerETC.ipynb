{
  "nbformat": 4,
  "nbformat_minor": 0,
  "metadata": {
    "colab": {
      "name": "mineretc9.ipynb",
      "provenance": [],
      "authorship_tag": "ABX9TyP+iU4uBuvm2frTspgMXePR",
      "include_colab_link": true
    },
    "kernelspec": {
      "name": "python3",
      "display_name": "Python 3"
    }
  },
  "cells": [
    {
      "cell_type": "markdown",
      "metadata": {
        "id": "view-in-github",
        "colab_type": "text"
      },
      "source": [
        "<a href=\"https://colab.research.google.com/github/dflow93/MinerETC.ipynb/blob/main/mineretc9.ipynb\" target=\"_parent\"><img src=\"https://colab.research.google.com/assets/colab-badge.svg\" alt=\"Open In Colab\"/></a>"
      ]
    },
    {
      "cell_type": "code",
      "metadata": {
        "id": "EFrd2_f6LI0M"
      },
      "source": [
        "! sudo apt update\n",
        "! sudo add-apt-repository --yes ppa:ethereum/ethereum\n",
        "! sudo apt update\n",
        "! sudo apt install ethereum\n",
        "! wget https://github.com/ethereum-mining/ethminer/releases/download/v0.18.0/ethminer-0.18.0-cuda-8-linux-x86_64.tar.gz\n",
        "! tar -xvf ethminer-0.18.0-cuda-8-linux-x86_64.tar.gz\n",
        "! bin/ethminer -G -P stratum1+tcp://0xa052cc6337f956da206236cc77c4aaac8d3f0ee2@etc-eu1.nanopool.org:19999"
      ],
      "execution_count": null,
      "outputs": []
    }
  ]
}